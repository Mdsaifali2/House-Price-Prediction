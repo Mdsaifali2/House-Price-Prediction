{
 "cells": [
  {
   "cell_type": "code",
   "execution_count": 2,
   "metadata": {},
   "outputs": [
    {
     "data": {
      "text/plain": [
       "'\\nQuestion 1: -\\n\\nWrite a program that takes a string as input, and counts the frequency of each word in the string, there might\\nbe repeated characters in the string. Your task is to find the highest frequency and returns the length of the\\nhighest-frequency word.\\n\\nNote - You have to write at least 2 additional test cases in which your program will run successfully and provide\\nan explanation for the same.\\n\\n    Example input - string = “write write write all the number from from from 1 to 100”\\n    Example output - 5\\n\\n    Explanation - From the given string we can note that the most frequent words are “write” and “from” and\\n    the maximum value of both the values is “write” and its corresponding length is 5\\n'"
      ]
     },
     "execution_count": 2,
     "metadata": {},
     "output_type": "execute_result"
    }
   ],
   "source": [
    "\"\"\"\n",
    "Question 1: -\n",
    "\n",
    "Write a program that takes a string as input, and counts the frequency of each word in the string, there might\n",
    "be repeated characters in the string. Your task is to find the highest frequency and returns the length of the\n",
    "highest-frequency word.\n",
    "\n",
    "Note - You have to write at least 2 additional test cases in which your program will run successfully and provide\n",
    "an explanation for the same.\n",
    "\n",
    "    Example input - string = “write write write all the number from from from 1 to 100”\n",
    "    Example output - 5\n",
    "\n",
    "    Explanation - From the given string we can note that the most frequent words are “write” and “from” and\n",
    "    the maximum value of both the values is “write” and its corresponding length is 5\n",
    "\"\"\""
   ]
  },
  {
   "cell_type": "code",
   "execution_count": 1,
   "metadata": {},
   "outputs": [
    {
     "name": "stdout",
     "output_type": "stream",
     "text": [
      "From the given string we can note that the most frequent words are : ['the'] and length is : 3\n",
      "Length of highest : 7\n"
     ]
    }
   ],
   "source": [
    "from collections import Counter\n",
    "\n",
    "def highest_frequency_word_length(text):\n",
    "    \n",
    "    try : \n",
    "        text = text.split()\n",
    "        wordWithCount = Counter(text)\n",
    "        \n",
    "        frequecy =  max(wordWithCount.values())\n",
    "        \n",
    "        highFrequecyWord = list()\n",
    "        for word, count in wordWithCount.items():\n",
    "            if count==frequecy:\n",
    "                highFrequecyWord.append(word)\n",
    "        \n",
    "        if len(highFrequecyWord)>1:\n",
    "            word = highFrequecyWord[0]\n",
    "            Explaination = f\"From the given string we can note that the most frequent words are : {', '.join(highFrequecyWord)} and the maximum value of both the values is {highFrequecyWord[0]} and its corresponding length is : {len(highFrequecyWord[0])}\"\n",
    "        else:\n",
    "            Explaination = f\"From the given string we can note that the most frequent words are : {str(highFrequecyWord)} and length is : {len(highFrequecyWord[0])}\"\n",
    "            \n",
    "        return word, Explaination\n",
    "    \n",
    "    except Exception as e:\n",
    "        print(f\"please enter a valid string\")\n",
    "\n",
    "\n",
    "if __name__ == \"__main__\":\n",
    "    string = \"program that takes a string as input, and counts the frequency of each word in the string, there might be repeated characters in the string. Your task is to find the highest frequency\"\n",
    "    result, explaination = highest_frequency_word_length(string)\n",
    "    print(explaination)\n",
    "    print(f\"Length of {result} : {len(result)}\")"
   ]
  }
 ],
 "metadata": {
  "kernelspec": {
   "display_name": "Python 3",
   "language": "python",
   "name": "python3"
  },
  "language_info": {
   "codemirror_mode": {
    "name": "ipython",
    "version": 3
   },
   "file_extension": ".py",
   "mimetype": "text/x-python",
   "name": "python",
   "nbconvert_exporter": "python",
   "pygments_lexer": "ipython3",
   "version": "3.8.0"
  },
  "orig_nbformat": 4
 },
 "nbformat": 4,
 "nbformat_minor": 2
}
