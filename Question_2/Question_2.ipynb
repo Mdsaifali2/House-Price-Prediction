{
 "cells": [
  {
   "cell_type": "code",
   "execution_count": 1,
   "metadata": {},
   "outputs": [
    {
     "data": {
      "text/plain": [
       "'\\nQuestion 2: -\\n\\nConsider a string to be valid if all characters of the string appear the same number of times. It is also valid if\\nhe can remove just one character at the index in the string, and the remaining characters will occur the same\\nnumber of times. Given a string, determine if it is valid. If so, return YES , otherwise return NO .\\n\\n\\nNote - You have to write at least 2 additional test cases in which your program will run successfully and provide\\nan explanation for the same.\\n\\n\\nExample input 1 - s = “abc”. This is a valid string because frequencies are { “a”: 1, “b”: 1, “c”: 1 }\\n\\nExample output 1- YES\\n\\nExample input 2 - s “abcc”. This string is not valid as we can remove only 1 occurrence of “c”. That leaves character frequencies of { “a”: 1, “b”: 1 , “c”: 2 }\\n\\nExample output 2 - NO\\n'"
      ]
     },
     "execution_count": 1,
     "metadata": {},
     "output_type": "execute_result"
    }
   ],
   "source": [
    "\"\"\"\n",
    "Question 2: -\n",
    "\n",
    "Consider a string to be valid if all characters of the string appear the same number of times. It is also valid if\n",
    "he can remove just one character at the index in the string, and the remaining characters will occur the same\n",
    "number of times. Given a string, determine if it is valid. If so, return YES , otherwise return NO .\n",
    "\n",
    "\n",
    "Note - You have to write at least 2 additional test cases in which your program will run successfully and provide\n",
    "an explanation for the same.\n",
    "\n",
    "\n",
    "Example input 1 - s = “abc”. This is a valid string because frequencies are { “a”: 1, “b”: 1, “c”: 1 }\n",
    "\n",
    "Example output 1- YES\n",
    "\n",
    "Example input 2 - s “abcc”. This string is not valid as we can remove only 1 occurrence of “c”. That leaves character frequencies of { “a”: 1, “b”: 1 , “c”: 2 }\n",
    "\n",
    "Example output 2 - NO\n",
    "\"\"\"\n"
   ]
  },
  {
   "cell_type": "code",
   "execution_count": 2,
   "metadata": {},
   "outputs": [
    {
     "name": "stdout",
     "output_type": "stream",
     "text": [
      "YES\n",
      "YES, by removing one occurence of a character otherwise NO\n",
      "YES\n",
      "No\n"
     ]
    }
   ],
   "source": [
    "\n",
    "from collections import Counter\n",
    "\n",
    "def validateString(string):\n",
    "        charWithCounts = Counter(string)\n",
    "        frequencyCounts = Counter(charWithCounts.values())\n",
    "        # print(charWithCounts)\n",
    "        # print(frequencyCounts)\n",
    "        # print(len(frequencyCounts))\n",
    "        \n",
    "        if len(frequencyCounts) == 1:\n",
    "            return \"YES\"\n",
    "        if len(frequencyCounts) > 2:\n",
    "            return \"No\"\n",
    "        \n",
    "        min_freq, max_freq = sorted(frequencyCounts.keys())\n",
    "        \n",
    "        # print(min_freq, max_freq)\n",
    "        # print(frequencyCounts[min_freq])\n",
    "        \n",
    "        if max_freq - min_freq == 1 and frequencyCounts[max_freq] == 1:\n",
    "            return \"YES, by removing one occurence of a character otherwise NO\"\n",
    "\n",
    "        if min_freq == 1 and frequencyCounts[min_freq] == 1:\n",
    "            return \"YES, by removing one occurence of a character Otherwise No\"\n",
    "\n",
    "        return \"NO\"\n",
    "    \n",
    "\n",
    "\n",
    "if __name__ == \"__main__\":\n",
    "        \n",
    "    a = \"abc\"\n",
    "    b = \"abcc\"\n",
    "    c = \"aabbcc\"\n",
    "    d = \"aabbccdc\"\n",
    "\n",
    "    print(validateString(a))\n",
    "    print(validateString(b))\n",
    "    print(validateString(c))\n",
    "    print(validateString(d))"
   ]
  }
 ],
 "metadata": {
  "kernelspec": {
   "display_name": "Python 3",
   "language": "python",
   "name": "python3"
  },
  "language_info": {
   "codemirror_mode": {
    "name": "ipython",
    "version": 3
   },
   "file_extension": ".py",
   "mimetype": "text/x-python",
   "name": "python",
   "nbconvert_exporter": "python",
   "pygments_lexer": "ipython3",
   "version": "3.8.0"
  },
  "orig_nbformat": 4
 },
 "nbformat": 4,
 "nbformat_minor": 2
}
