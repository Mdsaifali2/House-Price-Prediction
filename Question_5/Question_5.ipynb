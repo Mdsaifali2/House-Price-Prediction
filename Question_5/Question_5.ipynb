{
 "cells": [
  {
   "cell_type": "code",
   "execution_count": 1,
   "metadata": {},
   "outputs": [
    {
     "data": {
      "text/plain": [
       "'\\nWrite a program to download the data from the given API link and then extract the following data with\\nproper formatting\\n\\nLink - http://api.tvmaze.com/singlesearch/shows?q=westworld&embed=episodes\\nNote - Write proper code comments wherever needed for the code understanding\\n'"
      ]
     },
     "execution_count": 1,
     "metadata": {},
     "output_type": "execute_result"
    }
   ],
   "source": [
    "\"\"\"\n",
    "Write a program to download the data from the given API link and then extract the following data with\n",
    "proper formatting\n",
    "\n",
    "Link - http://api.tvmaze.com/singlesearch/shows?q=westworld&embed=episodes\n",
    "Note - Write proper code comments wherever needed for the code understanding\n",
    "\"\"\""
   ]
  },
  {
   "cell_type": "code",
   "execution_count": null,
   "metadata": {},
   "outputs": [],
   "source": [
    "import pandas as pd\n",
    "import json\n",
    "import urllib.request\n",
    "import bs4\n",
    "import numpy as np\n",
    "\n",
    "with urllib.request.urlopen('http://api.tvmaze.com/singlesearch/shows?q=westworld&embed=episodes') as f:\n",
    "    dataa=json.loads(f.read().decode())\n",
    "    \n",
    "data_append=dict()\n",
    "data_append['id']=[]\n",
    "data_append['url']=[]\n",
    "data_append['name']=[]\n",
    "data_append['season']=[]\n",
    "data_append['number']=[]\n",
    "data_append['type']=[]\n",
    "data_append['airdate']=[]\n",
    "data_append['airtime']=[]\n",
    "data_append['airstamp']=[]\n",
    "data_append['runtime']=[]\n",
    "data_append['rating']=[]\n",
    "data_append['medium']=[]\n",
    "data_append['original']=[]\n",
    "data_append['summary']=[]\n",
    "data_append['links']=[]\n",
    "data_append['show']=[]\n",
    "\n",
    "for i in dataa['_embedded']['episodes']:\n",
    "    data_append['id'].append(i['id'])\n",
    "    data_append['url'].append(i['url'])\n",
    "    data_append['name'].append(i['name'])\n",
    "    data_append['season'].append(i['season'])\n",
    "    data_append['number'].append(i['number'])\n",
    "    data_append['type'].append(i['type'])\n",
    "    data_append['airdate'].append(i['airdate'])\n",
    "    data_append['airtime'].append(i['airtime'])\n",
    "    data_append['airstamp'].append(i['airstamp'])\n",
    "    data_append['runtime'].append(i['runtime'])\n",
    "    data_append['rating'].append(i['rating']['average'])\n",
    "    data_append['medium'].append(i['image']['medium'])\n",
    "    data_append['original'].append(i['image']['original'])\n",
    "    data_append['summary'].append(bs4.BeautifulSoup(i['summary']).text)\n",
    "    data_append['links'].append(i['_links']['self']['href'])\n",
    "    data_append['show'].append(i['_links']['show']['href'])\n",
    "    \n",
    "\n",
    "d = pd.DataFrame(data_append)\n",
    "d.to_csv(\"file.csv\")"
   ]
  }
 ],
 "metadata": {
  "kernelspec": {
   "display_name": "Python 3",
   "language": "python",
   "name": "python3"
  },
  "language_info": {
   "codemirror_mode": {
    "name": "ipython",
    "version": 3
   },
   "file_extension": ".py",
   "mimetype": "text/x-python",
   "name": "python",
   "nbconvert_exporter": "python",
   "pygments_lexer": "ipython3",
   "version": "3.8.0"
  },
  "orig_nbformat": 4
 },
 "nbformat": 4,
 "nbformat_minor": 2
}
